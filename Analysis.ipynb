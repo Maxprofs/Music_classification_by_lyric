{
 "cells": [
  {
   "cell_type": "code",
   "execution_count": null,
   "metadata": {},
   "outputs": [],
   "source": [
    "import pandas as pd\n",
    "import numpy as np\n",
    "import time\n",
    "import resource\n",
    "from os import walk\n",
    "from datetime  import datetime,timedelta,date\n",
    "import multiprocessing as mp\n",
    "import os\n",
    "import re\n",
    "import subprocess\n",
    "import matplotlib.pyplot as plt\n",
    "from tld import get_tld\n",
    "import shutil\n",
    "import csv\n",
    "import seaborn as sns\n",
    "import pickle\n",
    "from mlxtend.preprocessing import TransactionEncoder\n",
    "from mlxtend.frequent_patterns import apriori\n",
    "\n",
    "def save_obj(obj, file_name):    \n",
    "    file_path = '/member-folder/nghiadt/pyobj/' + file_name\n",
    "    file_save = open(file_path, 'wb')\n",
    "    pickle.dump(obj, file_save, pickle.HIGHEST_PROTOCOL)\n",
    "    file_save.close()\n",
    "\n",
    "def load_obj(file_name):\n",
    "    path = '/member-folder/nghiadt/pyobj/' + file_name\n",
    "    file_save = open(path, 'rb')\n",
    "    return pickle.load(file_save)\n",
    "\n",
    "DATASOURCE = 'pyobj/'\n",
    "DESTINATION = '/member-folder/nghiadt/DNS/Spamer/'\n",
    "\n",
    "ERR_IP = '-1.0.0.0'"
   ]
  }
 ],
 "metadata": {
  "kernelspec": {
   "display_name": "Python 3",
   "language": "python",
   "name": "python3"
  },
  "language_info": {
   "codemirror_mode": {
    "name": "ipython",
    "version": 3
   },
   "file_extension": ".py",
   "mimetype": "text/x-python",
   "name": "python",
   "nbconvert_exporter": "python",
   "pygments_lexer": "ipython3",
   "version": "3.6.5"
  }
 },
 "nbformat": 4,
 "nbformat_minor": 2
}
